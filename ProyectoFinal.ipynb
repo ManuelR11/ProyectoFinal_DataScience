{
 "cells": [
  {
   "cell_type": "markdown",
   "metadata": {},
   "source": [
    "# Proyecto Final"
   ]
  },
  {
   "cell_type": "code",
   "execution_count": 1,
   "metadata": {},
   "outputs": [],
   "source": [
    "import pandas as pd\n",
    "import numpy as np\n"
   ]
  },
  {
   "cell_type": "code",
   "execution_count": 2,
   "metadata": {},
   "outputs": [
    {
     "name": "stdout",
     "output_type": "stream",
     "text": [
      "   Year  Month  DayofMonth  DayOfWeek  DepTime  CRSDepTime  ArrTime  \\\n",
      "0  2008      1           3          4   2003.0        1955   2211.0   \n",
      "1  2008      1           3          4    754.0         735   1002.0   \n",
      "2  2008      1           3          4    628.0         620    804.0   \n",
      "3  2008      1           3          4   1829.0        1755   1959.0   \n",
      "4  2008      1           3          4   1940.0        1915   2121.0   \n",
      "\n",
      "   CRSArrTime UniqueCarrier  FlightNum  ... TaxiIn  TaxiOut  Cancelled  \\\n",
      "0        2225            WN        335  ...    4.0      8.0          0   \n",
      "1        1000            WN       3231  ...    5.0     10.0          0   \n",
      "2         750            WN        448  ...    3.0     17.0          0   \n",
      "3        1925            WN       3920  ...    3.0     10.0          0   \n",
      "4        2110            WN        378  ...    4.0     10.0          0   \n",
      "\n",
      "   CancellationCode  Diverted  CarrierDelay WeatherDelay NASDelay  \\\n",
      "0                 N         0           NaN          NaN      NaN   \n",
      "1                 N         0           NaN          NaN      NaN   \n",
      "2                 N         0           NaN          NaN      NaN   \n",
      "3                 N         0           2.0          0.0      0.0   \n",
      "4                 N         0           NaN          NaN      NaN   \n",
      "\n",
      "   SecurityDelay  LateAircraftDelay  \n",
      "0            NaN                NaN  \n",
      "1            NaN                NaN  \n",
      "2            NaN                NaN  \n",
      "3            0.0               32.0  \n",
      "4            NaN                NaN  \n",
      "\n",
      "[5 rows x 29 columns]\n"
     ]
    }
   ],
   "source": [
    "data = pd.read_csv('DelayedFlights.csv')\n",
    "data = data.iloc[:, 1:]  # Eliminar la primera columna sin nombre\n",
    "print(data.head())\n"
   ]
  },
  {
   "cell_type": "code",
   "execution_count": 3,
   "metadata": {},
   "outputs": [],
   "source": [
    "# convertir a tipo de dato entero o bool\n",
    "data['Year'] = data['Year'].astype(int)\n",
    "data['Month'] = data['Month'].astype(int)\n",
    "data['DayofMonth'] = data['DayofMonth'].astype(int)\n",
    "data['DayOfWeek'] = data['DayOfWeek'].astype(int)\n",
    "data['Cancelled'] = data['Cancelled'].astype(bool)\n",
    "data['Diverted'] = data['Diverted'].astype(bool)"
   ]
  },
  {
   "cell_type": "code",
   "execution_count": 4,
   "metadata": {},
   "outputs": [],
   "source": [
    "# Eliminar duplicados\n",
    "\n",
    "data.drop_duplicates(inplace=True)"
   ]
  },
  {
   "cell_type": "code",
   "execution_count": 5,
   "metadata": {},
   "outputs": [
    {
     "name": "stdout",
     "output_type": "stream",
     "text": [
      "Cantidad de valores nulos por columna:\n",
      " LateAircraftDelay    689270\n",
      "SecurityDelay        689270\n",
      "NASDelay             689270\n",
      "WeatherDelay         689270\n",
      "CarrierDelay         689270\n",
      "ActualElapsedTime      8387\n",
      "AirTime                8387\n",
      "ArrDelay               8387\n",
      "ArrTime                7110\n",
      "TaxiIn                 7110\n",
      "TaxiOut                 455\n",
      "CRSElapsedTime          198\n",
      "TailNum                   5\n",
      "UniqueCarrier             0\n",
      "Cancelled                 0\n",
      "DayofMonth                0\n",
      "DayOfWeek                 0\n",
      "DepTime                   0\n",
      "CRSDepTime                0\n",
      "Diverted                  0\n",
      "CancellationCode          0\n",
      "Distance                  0\n",
      "FlightNum                 0\n",
      "Dest                      0\n",
      "Origin                    0\n",
      "DepDelay                  0\n",
      "Month                     0\n",
      "CRSArrTime                0\n",
      "Year                      0\n",
      "dtype: int64\n",
      "Columnas eliminadas por tener mas de la mitad de valores nulos:\n",
      " Series([], dtype: int64)\n",
      "   Year  Month  DayofMonth  DayOfWeek  DepTime  CRSDepTime  ArrTime  \\\n",
      "0  2008      1           3          4   2003.0        1955   2211.0   \n",
      "1  2008      1           3          4    754.0         735   1002.0   \n",
      "2  2008      1           3          4    628.0         620    804.0   \n",
      "3  2008      1           3          4   1829.0        1755   1959.0   \n",
      "4  2008      1           3          4   1940.0        1915   2121.0   \n",
      "\n",
      "   CRSArrTime UniqueCarrier  FlightNum  ... TaxiIn  TaxiOut  Cancelled  \\\n",
      "0        2225            WN        335  ...    4.0      8.0      False   \n",
      "1        1000            WN       3231  ...    5.0     10.0      False   \n",
      "2         750            WN        448  ...    3.0     17.0      False   \n",
      "3        1925            WN       3920  ...    3.0     10.0      False   \n",
      "4        2110            WN        378  ...    4.0     10.0      False   \n",
      "\n",
      "   CancellationCode  Diverted  CarrierDelay WeatherDelay NASDelay  \\\n",
      "0                 N     False           NaN          NaN      NaN   \n",
      "1                 N     False           NaN          NaN      NaN   \n",
      "2                 N     False           NaN          NaN      NaN   \n",
      "3                 N     False           2.0          0.0      0.0   \n",
      "4                 N     False           NaN          NaN      NaN   \n",
      "\n",
      "   SecurityDelay  LateAircraftDelay  \n",
      "0            NaN                NaN  \n",
      "1            NaN                NaN  \n",
      "2            NaN                NaN  \n",
      "3            0.0               32.0  \n",
      "4            NaN                NaN  \n",
      "\n",
      "[5 rows x 29 columns]\n"
     ]
    }
   ],
   "source": [
    "\n",
    "null_counts = data.isnull().sum().sort_values(ascending=False)\n",
    "print(\"Cantidad de valores nulos por columna:\\n\", null_counts)\n",
    "\n",
    "# revisa si es mas de la mitad de los datos y si si, elimianrlos\n",
    "data.dropna(thresh=data.shape[0]/2, axis=1, inplace=True)\n",
    "# mostrar columna eliminadas\n",
    "print(\"Columnas eliminadas por tener mas de la mitad de valores nulos:\\n\", null_counts[null_counts > data.shape[0]/2])\n",
    "\n",
    "print(data.head())"
   ]
  },
  {
   "cell_type": "code",
   "execution_count": 6,
   "metadata": {},
   "outputs": [
    {
     "name": "stderr",
     "output_type": "stream",
     "text": [
      "C:\\Users\\rodas\\AppData\\Local\\Temp\\ipykernel_12972\\1642266625.py:2: FutureWarning: A value is trying to be set on a copy of a DataFrame or Series through chained assignment using an inplace method.\n",
      "The behavior will change in pandas 3.0. This inplace method will never work because the intermediate object on which we are setting values always behaves as a copy.\n",
      "\n",
      "For example, when doing 'df[col].method(value, inplace=True)', try using 'df.method({col: value}, inplace=True)' or df[col] = df[col].method(value) instead, to perform the operation inplace on the original object.\n",
      "\n",
      "\n",
      "  data['LateAircraftDelay'].fillna(0, inplace=True)\n",
      "C:\\Users\\rodas\\AppData\\Local\\Temp\\ipykernel_12972\\1642266625.py:3: FutureWarning: A value is trying to be set on a copy of a DataFrame or Series through chained assignment using an inplace method.\n",
      "The behavior will change in pandas 3.0. This inplace method will never work because the intermediate object on which we are setting values always behaves as a copy.\n",
      "\n",
      "For example, when doing 'df[col].method(value, inplace=True)', try using 'df.method({col: value}, inplace=True)' or df[col] = df[col].method(value) instead, to perform the operation inplace on the original object.\n",
      "\n",
      "\n",
      "  data['SecurityDelay'].fillna(0, inplace=True)\n",
      "C:\\Users\\rodas\\AppData\\Local\\Temp\\ipykernel_12972\\1642266625.py:4: FutureWarning: A value is trying to be set on a copy of a DataFrame or Series through chained assignment using an inplace method.\n",
      "The behavior will change in pandas 3.0. This inplace method will never work because the intermediate object on which we are setting values always behaves as a copy.\n",
      "\n",
      "For example, when doing 'df[col].method(value, inplace=True)', try using 'df.method({col: value}, inplace=True)' or df[col] = df[col].method(value) instead, to perform the operation inplace on the original object.\n",
      "\n",
      "\n",
      "  data['NASDelay'].fillna(0, inplace=True)\n",
      "C:\\Users\\rodas\\AppData\\Local\\Temp\\ipykernel_12972\\1642266625.py:5: FutureWarning: A value is trying to be set on a copy of a DataFrame or Series through chained assignment using an inplace method.\n",
      "The behavior will change in pandas 3.0. This inplace method will never work because the intermediate object on which we are setting values always behaves as a copy.\n",
      "\n",
      "For example, when doing 'df[col].method(value, inplace=True)', try using 'df.method({col: value}, inplace=True)' or df[col] = df[col].method(value) instead, to perform the operation inplace on the original object.\n",
      "\n",
      "\n",
      "  data['WeatherDelay'].fillna(0, inplace=True)\n",
      "C:\\Users\\rodas\\AppData\\Local\\Temp\\ipykernel_12972\\1642266625.py:6: FutureWarning: A value is trying to be set on a copy of a DataFrame or Series through chained assignment using an inplace method.\n",
      "The behavior will change in pandas 3.0. This inplace method will never work because the intermediate object on which we are setting values always behaves as a copy.\n",
      "\n",
      "For example, when doing 'df[col].method(value, inplace=True)', try using 'df.method({col: value}, inplace=True)' or df[col] = df[col].method(value) instead, to perform the operation inplace on the original object.\n",
      "\n",
      "\n",
      "  data['CarrierDelay'].fillna(0, inplace=True)\n"
     ]
    }
   ],
   "source": [
    "# si la celda esta vacia en las columnas  LateAircraftDelay, ecurityDelay, NASDelay, WeatherDelay, CarrierDelay cambiar a 0\n",
    "data['LateAircraftDelay'].fillna(0, inplace=True)\n",
    "data['SecurityDelay'].fillna(0, inplace=True)\n",
    "data['NASDelay'].fillna(0, inplace=True)\n",
    "data['WeatherDelay'].fillna(0, inplace=True)\n",
    "data['CarrierDelay'].fillna(0, inplace=True)"
   ]
  },
  {
   "cell_type": "code",
   "execution_count": 7,
   "metadata": {},
   "outputs": [
    {
     "name": "stdout",
     "output_type": "stream",
     "text": [
      "Cantidad de valores nulos por columna:\n",
      " ArrDelay             8387\n",
      "AirTime              8387\n",
      "ActualElapsedTime    8387\n",
      "TaxiIn               7110\n",
      "ArrTime              7110\n",
      "TaxiOut               455\n",
      "CRSElapsedTime        198\n",
      "TailNum                 5\n",
      "Cancelled               0\n",
      "CancellationCode        0\n",
      "Dest                    0\n",
      "Diverted                0\n",
      "CarrierDelay            0\n",
      "WeatherDelay            0\n",
      "NASDelay                0\n",
      "SecurityDelay           0\n",
      "Distance                0\n",
      "Year                    0\n",
      "Origin                  0\n",
      "DepDelay                0\n",
      "Month                   0\n",
      "FlightNum               0\n",
      "UniqueCarrier           0\n",
      "CRSArrTime              0\n",
      "CRSDepTime              0\n",
      "DepTime                 0\n",
      "DayOfWeek               0\n",
      "DayofMonth              0\n",
      "LateAircraftDelay       0\n",
      "dtype: int64\n"
     ]
    }
   ],
   "source": [
    "null_counts = data.isnull().sum().sort_values(ascending=False)\n",
    "print(\"Cantidad de valores nulos por columna:\\n\", null_counts)\n"
   ]
  },
  {
   "cell_type": "code",
   "execution_count": 8,
   "metadata": {},
   "outputs": [
    {
     "name": "stderr",
     "output_type": "stream",
     "text": [
      "C:\\Users\\rodas\\AppData\\Local\\Temp\\ipykernel_12972\\3358772524.py:6: FutureWarning: A value is trying to be set on a copy of a DataFrame or Series through chained assignment using an inplace method.\n",
      "The behavior will change in pandas 3.0. This inplace method will never work because the intermediate object on which we are setting values always behaves as a copy.\n",
      "\n",
      "For example, when doing 'df[col].method(value, inplace=True)', try using 'df.method({col: value}, inplace=True)' or df[col] = df[col].method(value) instead, to perform the operation inplace on the original object.\n",
      "\n",
      "\n",
      "  data[column].fillna(data[column].mode()[0], inplace=True)\n",
      "C:\\Users\\rodas\\AppData\\Local\\Temp\\ipykernel_12972\\3358772524.py:6: FutureWarning: A value is trying to be set on a copy of a DataFrame or Series through chained assignment using an inplace method.\n",
      "The behavior will change in pandas 3.0. This inplace method will never work because the intermediate object on which we are setting values always behaves as a copy.\n",
      "\n",
      "For example, when doing 'df[col].method(value, inplace=True)', try using 'df.method({col: value}, inplace=True)' or df[col] = df[col].method(value) instead, to perform the operation inplace on the original object.\n",
      "\n",
      "\n",
      "  data[column].fillna(data[column].mode()[0], inplace=True)\n",
      "C:\\Users\\rodas\\AppData\\Local\\Temp\\ipykernel_12972\\3358772524.py:6: FutureWarning: A value is trying to be set on a copy of a DataFrame or Series through chained assignment using an inplace method.\n",
      "The behavior will change in pandas 3.0. This inplace method will never work because the intermediate object on which we are setting values always behaves as a copy.\n",
      "\n",
      "For example, when doing 'df[col].method(value, inplace=True)', try using 'df.method({col: value}, inplace=True)' or df[col] = df[col].method(value) instead, to perform the operation inplace on the original object.\n",
      "\n",
      "\n",
      "  data[column].fillna(data[column].mode()[0], inplace=True)\n",
      "C:\\Users\\rodas\\AppData\\Local\\Temp\\ipykernel_12972\\3358772524.py:6: FutureWarning: A value is trying to be set on a copy of a DataFrame or Series through chained assignment using an inplace method.\n",
      "The behavior will change in pandas 3.0. This inplace method will never work because the intermediate object on which we are setting values always behaves as a copy.\n",
      "\n",
      "For example, when doing 'df[col].method(value, inplace=True)', try using 'df.method({col: value}, inplace=True)' or df[col] = df[col].method(value) instead, to perform the operation inplace on the original object.\n",
      "\n",
      "\n",
      "  data[column].fillna(data[column].mode()[0], inplace=True)\n",
      "C:\\Users\\rodas\\AppData\\Local\\Temp\\ipykernel_12972\\3358772524.py:4: FutureWarning: A value is trying to be set on a copy of a DataFrame or Series through chained assignment using an inplace method.\n",
      "The behavior will change in pandas 3.0. This inplace method will never work because the intermediate object on which we are setting values always behaves as a copy.\n",
      "\n",
      "For example, when doing 'df[col].method(value, inplace=True)', try using 'df.method({col: value}, inplace=True)' or df[col] = df[col].method(value) instead, to perform the operation inplace on the original object.\n",
      "\n",
      "\n",
      "  data[column].fillna(data[column].mean(), inplace=True)\n"
     ]
    }
   ],
   "source": [
    "# llenar valores nulos con la media \n",
    "for column in data.columns:\n",
    "    if data[column].dtype in ['float64', 'int64']:\n",
    "        data[column].fillna(data[column].mean(), inplace=True)\n",
    "    else:\n",
    "        data[column].fillna(data[column].mode()[0], inplace=True)"
   ]
  },
  {
   "cell_type": "code",
   "execution_count": 9,
   "metadata": {},
   "outputs": [
    {
     "name": "stdout",
     "output_type": "stream",
     "text": [
      "Cantidad de valores nulos por columna:\n",
      " Year                 0\n",
      "DepDelay             0\n",
      "SecurityDelay        0\n",
      "NASDelay             0\n",
      "WeatherDelay         0\n",
      "CarrierDelay         0\n",
      "Diverted             0\n",
      "CancellationCode     0\n",
      "Cancelled            0\n",
      "TaxiOut              0\n",
      "TaxiIn               0\n",
      "Distance             0\n",
      "Dest                 0\n",
      "Origin               0\n",
      "ArrDelay             0\n",
      "Month                0\n",
      "AirTime              0\n",
      "CRSElapsedTime       0\n",
      "ActualElapsedTime    0\n",
      "TailNum              0\n",
      "FlightNum            0\n",
      "UniqueCarrier        0\n",
      "CRSArrTime           0\n",
      "ArrTime              0\n",
      "CRSDepTime           0\n",
      "DepTime              0\n",
      "DayOfWeek            0\n",
      "DayofMonth           0\n",
      "LateAircraftDelay    0\n",
      "dtype: int64\n"
     ]
    }
   ],
   "source": [
    "null_counts = data.isnull().sum().sort_values(ascending=False)\n",
    "print(\"Cantidad de valores nulos por columna:\\n\", null_counts)"
   ]
  }
 ],
 "metadata": {
  "kernelspec": {
   "display_name": "Python 3",
   "language": "python",
   "name": "python3"
  },
  "language_info": {
   "codemirror_mode": {
    "name": "ipython",
    "version": 3
   },
   "file_extension": ".py",
   "mimetype": "text/x-python",
   "name": "python",
   "nbconvert_exporter": "python",
   "pygments_lexer": "ipython3",
   "version": "3.11.7"
  }
 },
 "nbformat": 4,
 "nbformat_minor": 2
}
