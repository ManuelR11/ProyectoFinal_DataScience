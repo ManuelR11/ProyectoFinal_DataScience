{
 "cells": [
  {
   "cell_type": "code",
   "execution_count": 1,
   "metadata": {},
   "outputs": [],
   "source": [
    "# Paquetes para el procesamiento de datos\n",
    "import pandas as pd\n",
    "import numpy as np\n",
    "from sklearn.model_selection import train_test_split\n",
    "from sklearn.preprocessing import StandardScaler\n",
    "from tensorflow.keras.preprocessing.sequence import pad_sequences\n",
    "\n",
    "# Paquetes para construir y entrenar el modelo RNN\n",
    "from tensorflow.keras.models import Sequential\n",
    "from tensorflow.keras.layers import Dense, LSTM, SimpleRNN, GRU, Embedding\n",
    "from tensorflow.keras.layers import Dropout\n",
    "from tensorflow.keras.optimizers import Adam\n",
    "\n",
    "# Paquetes para la evaluación del modelo\n",
    "from sklearn.metrics import classification_report, confusion_matrix\n",
    "import matplotlib.pyplot as plt\n",
    "import seaborn as sns\n"
   ]
  },
  {
   "cell_type": "code",
   "execution_count": 2,
   "metadata": {},
   "outputs": [],
   "source": [
    "file_path = 'DelayedFlightsClean.csv'\n",
    "flights_data = pd.read_csv(file_path)\n"
   ]
  },
  {
   "cell_type": "code",
   "execution_count": 3,
   "metadata": {},
   "outputs": [
    {
     "name": "stdout",
     "output_type": "stream",
     "text": [
      "   Year  Month  DayofMonth  DayOfWeek  DepTime  CRSDepTime  ArrTime  \\\n",
      "0  2008      1           3          4   2003.0        1955   2211.0   \n",
      "1  2008      1           3          4    754.0         735   1002.0   \n",
      "2  2008      1           3          4    628.0         620    804.0   \n",
      "3  2008      1           3          4   1829.0        1755   1959.0   \n",
      "4  2008      1           3          4   1940.0        1915   2121.0   \n",
      "\n",
      "   CRSArrTime UniqueCarrier  FlightNum  ... TaxiOut  Cancelled  \\\n",
      "0        2225            WN        335  ...     8.0      False   \n",
      "1        1000            WN       3231  ...    10.0      False   \n",
      "2         750            WN        448  ...    17.0      False   \n",
      "3        1925            WN       3920  ...    10.0      False   \n",
      "4        2110            WN        378  ...    10.0      False   \n",
      "\n",
      "   CancellationCode  Diverted  CarrierDelay  WeatherDelay NASDelay  \\\n",
      "0                 N     False           0.0           0.0      0.0   \n",
      "1                 N     False           0.0           0.0      0.0   \n",
      "2                 N     False           0.0           0.0      0.0   \n",
      "3                 N     False           2.0           0.0      0.0   \n",
      "4                 N     False           0.0           0.0      0.0   \n",
      "\n",
      "  SecurityDelay  LateAircraftDelay  flightDate  \n",
      "0           0.0                0.0  2008-01-03  \n",
      "1           0.0                0.0  2008-01-03  \n",
      "2           0.0                0.0  2008-01-03  \n",
      "3           0.0               32.0  2008-01-03  \n",
      "4           0.0                0.0  2008-01-03  \n",
      "\n",
      "[5 rows x 30 columns]\n",
      "Index(['Year', 'Month', 'DayofMonth', 'DayOfWeek', 'DepTime', 'CRSDepTime',\n",
      "       'ArrTime', 'CRSArrTime', 'UniqueCarrier', 'FlightNum', 'TailNum',\n",
      "       'ActualElapsedTime', 'CRSElapsedTime', 'AirTime', 'ArrDelay',\n",
      "       'DepDelay', 'Origin', 'Dest', 'Distance', 'TaxiIn', 'TaxiOut',\n",
      "       'Cancelled', 'CancellationCode', 'Diverted', 'CarrierDelay',\n",
      "       'WeatherDelay', 'NASDelay', 'SecurityDelay', 'LateAircraftDelay',\n",
      "       'flightDate'],\n",
      "      dtype='object')\n"
     ]
    }
   ],
   "source": [
    "print(flights_data.head())\n",
    "print(flights_data.columns)"
   ]
  },
  {
   "cell_type": "code",
   "execution_count": null,
   "metadata": {},
   "outputs": [
    {
     "name": "stdout",
     "output_type": "stream",
     "text": [
      "   ArrDelay  Delayed\n",
      "0     -14.0        0\n",
      "1       2.0        1\n",
      "2      14.0        1\n",
      "3      34.0        1\n",
      "4      11.0        1\n"
     ]
    }
   ],
   "source": [
    "# Crear la columna 'Delayed' como una variable binaria\n",
    "flights_data['Delayed'] = (flights_data['ArrDelay'] > 0).astype(int)\n",
    "\n",
    "# Verificar que se creó la columna correctamente\n",
    "print(flights_data[['ArrDelay', 'Delayed']].head())"
   ]
  },
  {
   "cell_type": "code",
   "execution_count": 5,
   "metadata": {},
   "outputs": [
    {
     "data": {
      "text/plain": [
       "Year                   int64\n",
       "Month                  int64\n",
       "DayofMonth             int64\n",
       "DayOfWeek              int64\n",
       "DepTime              float64\n",
       "CRSDepTime             int64\n",
       "ArrTime              float64\n",
       "CRSArrTime             int64\n",
       "UniqueCarrier         object\n",
       "FlightNum              int64\n",
       "TailNum               object\n",
       "ActualElapsedTime    float64\n",
       "CRSElapsedTime       float64\n",
       "AirTime              float64\n",
       "ArrDelay             float64\n",
       "DepDelay             float64\n",
       "Origin                object\n",
       "Dest                  object\n",
       "Distance               int64\n",
       "TaxiIn               float64\n",
       "TaxiOut              float64\n",
       "Cancelled               bool\n",
       "CancellationCode      object\n",
       "Diverted                bool\n",
       "CarrierDelay         float64\n",
       "WeatherDelay         float64\n",
       "NASDelay             float64\n",
       "SecurityDelay        float64\n",
       "LateAircraftDelay    float64\n",
       "flightDate            object\n",
       "Delayed                int64\n",
       "dtype: object"
      ]
     },
     "execution_count": 5,
     "metadata": {},
     "output_type": "execute_result"
    }
   ],
   "source": [
    "flights_data.dtypes"
   ]
  },
  {
   "cell_type": "code",
   "execution_count": 6,
   "metadata": {},
   "outputs": [],
   "source": [
    "# Convertir 'flightDate' a tipo datetime\n",
    "flights_data['flightDate'] = pd.to_datetime(flights_data['flightDate'], errors='coerce')\n",
    "\n",
    "# Extraer características adicionales si es necesario (ya tenemos Month, DayofMonth, DayOfWeek)\n",
    "flights_data['Year'] = flights_data['flightDate'].dt.year"
   ]
  },
  {
   "cell_type": "code",
   "execution_count": 7,
   "metadata": {},
   "outputs": [],
   "source": [
    "# Función para convertir formato HHMM a horas continuas\n",
    "def convert_to_hour(time):\n",
    "    hour = time // 100  # Parte de las horas\n",
    "    minute = time % 100  # Parte de los minutos\n",
    "    return hour + minute / 60  # Convertir a una representación continua en horas\n",
    "\n",
    "# Aplicar la función a las columnas de tiempo\n",
    "flights_data['DepTime'] = flights_data['DepTime'].apply(lambda x: convert_to_hour(x) if not pd.isnull(x) else x)\n",
    "flights_data['CRSDepTime'] = flights_data['CRSDepTime'].apply(lambda x: convert_to_hour(x) if not pd.isnull(x) else x)\n",
    "flights_data['ArrTime'] = flights_data['ArrTime'].apply(lambda x: convert_to_hour(x) if not pd.isnull(x) else x)\n",
    "flights_data['CRSArrTime'] = flights_data['CRSArrTime'].apply(lambda x: convert_to_hour(x) if not pd.isnull(x) else x)\n"
   ]
  },
  {
   "cell_type": "code",
   "execution_count": 8,
   "metadata": {},
   "outputs": [
    {
     "name": "stdout",
     "output_type": "stream",
     "text": [
      "Index(['Year', 'Month', 'DayofMonth', 'DayOfWeek', 'DepTime', 'CRSDepTime',\n",
      "       'ArrTime', 'CRSArrTime', 'FlightNum', 'TailNum',\n",
      "       ...\n",
      "       'Dest_TYR', 'Dest_TYS', 'Dest_VLD', 'Dest_VPS', 'Dest_WRG', 'Dest_WYS',\n",
      "       'Dest_XNA', 'Dest_YAK', 'Dest_YKM', 'Dest_YUM'],\n",
      "      dtype='object', length=650)\n"
     ]
    }
   ],
   "source": [
    "# Crear variables dummy para las columnas 'UniqueCarrier', 'Origin', y 'Dest'\n",
    "flights_data_encoded = pd.get_dummies(flights_data, columns=['UniqueCarrier', 'Origin', 'Dest'], drop_first=True)\n",
    "\n",
    "# Verificar las columnas del nuevo DataFrame para confirmar que se crearon las variables dummy\n",
    "print(flights_data_encoded.columns)\n"
   ]
  },
  {
   "cell_type": "code",
   "execution_count": 9,
   "metadata": {},
   "outputs": [
    {
     "name": "stdout",
     "output_type": "stream",
     "text": [
      "Shape of X: (1928369, 632)\n",
      "Shape of y: (1928369,)\n"
     ]
    }
   ],
   "source": [
    "# Definir las variables seleccionadas para el modelo RNN\n",
    "selected_features = [\n",
    "    'Month', 'DayofMonth', 'DayOfWeek', 'DepTime', 'CRSDepTime', \n",
    "    'ArrTime', 'CRSArrTime', 'Distance', 'TaxiIn', 'TaxiOut'\n",
    "]\n",
    "\n",
    "# Añadir las variables dummy generadas para 'UniqueCarrier', 'Origin', y 'Dest'\n",
    "# Utilizamos la lista de columnas del DataFrame codificado que empiezan con estos prefijos\n",
    "selected_features += [col for col in flights_data_encoded.columns if col.startswith('UniqueCarrier_') or col.startswith('Origin_') or col.startswith('Dest_')]\n",
    "\n",
    "# Crear el DataFrame X con las características seleccionadas y y con la variable objetivo\n",
    "X = flights_data_encoded[selected_features]\n",
    "y = flights_data_encoded['Delayed']\n",
    "\n",
    "# Verificar las dimensiones de X y y para confirmar que se seleccionaron las columnas correctamente\n",
    "print(\"Shape of X:\", X.shape)\n",
    "print(\"Shape of y:\", y.shape)\n"
   ]
  },
  {
   "cell_type": "code",
   "execution_count": 10,
   "metadata": {},
   "outputs": [
    {
     "name": "stderr",
     "output_type": "stream",
     "text": [
      "C:\\Users\\gtgallegoswil\\AppData\\Local\\Temp\\ipykernel_21408\\2496084505.py:2: SettingWithCopyWarning: \n",
      "A value is trying to be set on a copy of a slice from a DataFrame\n",
      "\n",
      "See the caveats in the documentation: https://pandas.pydata.org/pandas-docs/stable/user_guide/indexing.html#returning-a-view-versus-a-copy\n",
      "  X.fillna(X.median(), inplace=True)\n"
     ]
    },
    {
     "name": "stdout",
     "output_type": "stream",
     "text": [
      "Valores nulos en X después de la imputación:\n",
      "Month         0\n",
      "DayofMonth    0\n",
      "DayOfWeek     0\n",
      "DepTime       0\n",
      "CRSDepTime    0\n",
      "             ..\n",
      "Dest_WYS      0\n",
      "Dest_XNA      0\n",
      "Dest_YAK      0\n",
      "Dest_YKM      0\n",
      "Dest_YUM      0\n",
      "Length: 632, dtype: int64\n"
     ]
    }
   ],
   "source": [
    "# Rellenar los valores nulos en el conjunto de características (X) con la mediana de cada columna\n",
    "X.fillna(X.median(), inplace=True)\n",
    "\n",
    "# Verificar si aún hay valores nulos en X\n",
    "print(\"Valores nulos en X después de la imputación:\")\n",
    "print(X.isnull().sum())\n"
   ]
  },
  {
   "cell_type": "code",
   "execution_count": 11,
   "metadata": {},
   "outputs": [
    {
     "name": "stdout",
     "output_type": "stream",
     "text": [
      "Conteo de vuelos retrasados y no retrasados:\n",
      "Delayed\n",
      "1    1723413\n",
      "0     204956\n",
      "Name: count, dtype: int64\n",
      "\n",
      "Vuelos no retrasados (Delayed == 0): 204956\n",
      "Vuelos retrasados (Delayed == 1): 1723413\n"
     ]
    }
   ],
   "source": [
    "# Contar los valores en la columna 'Delayed'\n",
    "delay_counts = flights_data_encoded['Delayed'].value_counts()\n",
    "\n",
    "# Mostrar los resultados\n",
    "print(\"Conteo de vuelos retrasados y no retrasados:\")\n",
    "print(delay_counts)\n",
    "print(\"\\nVuelos no retrasados (Delayed == 0):\", delay_counts[0])\n",
    "print(\"Vuelos retrasados (Delayed == 1):\", delay_counts[1])"
   ]
  },
  {
   "cell_type": "code",
   "execution_count": 12,
   "metadata": {},
   "outputs": [
    {
     "name": "stdout",
     "output_type": "stream",
     "text": [
      "Conteo de clases después del resampleo:\n",
      "Delayed\n",
      "1    409912\n",
      "0    204956\n",
      "Name: count, dtype: int64\n"
     ]
    }
   ],
   "source": [
    "from sklearn.utils import resample\n",
    "\n",
    "flights_data_minority = flights_data_encoded[flights_data_encoded['Delayed'] == 0]\n",
    "flights_data_majority = flights_data_encoded[flights_data_encoded['Delayed'] == 1]\n",
    "\n",
    "# Determinar la cantidad de muestras para la clase mayoritaria (89% de la cantidad de la clase minoritaria)\n",
    "n_samples_majority = int(len(flights_data_minority) * 2)  # 8 veces la clase minoritaria\n",
    "\n",
    "# Aplicar submuestreo a la clase mayoritaria\n",
    "flights_data_majority_downsampled = resample(flights_data_majority, \n",
    "                                             replace=False,             # muestreo sin reemplazo\n",
    "                                             n_samples=n_samples_majority,  # número de muestras deseadas\n",
    "                                             random_state=42)           # reproducibilidad\n",
    "\n",
    "# Combinar ambas clases para crear un conjunto balanceado\n",
    "flights_data_balanced = pd.concat([flights_data_minority, flights_data_majority_downsampled])\n",
    "\n",
    "# Verificar el conteo de las clases en el conjunto balanceado\n",
    "print(\"Conteo de clases después del resampleo:\")\n",
    "print(flights_data_balanced['Delayed'].value_counts())"
   ]
  },
  {
   "cell_type": "code",
   "execution_count": 13,
   "metadata": {},
   "outputs": [],
   "source": [
    "flights_data_balanced = pd.concat([flights_data_minority, flights_data_majority_downsampled])"
   ]
  },
  {
   "cell_type": "code",
   "execution_count": 14,
   "metadata": {},
   "outputs": [
    {
     "name": "stdout",
     "output_type": "stream",
     "text": [
      "Shape of X_balanced: (614868, 632)\n",
      "Shape of y_balanced: (614868,)\n"
     ]
    }
   ],
   "source": [
    "# Seleccionar las características (X) y la variable objetivo (y)\n",
    "X_balanced = flights_data_balanced[selected_features]\n",
    "y_balanced = flights_data_balanced['Delayed']\n",
    "\n",
    "# Verificar las dimensiones de X_balanced y y_balanced\n",
    "print(\"Shape of X_balanced:\", X_balanced.shape)\n",
    "print(\"Shape of y_balanced:\", y_balanced.shape)\n"
   ]
  },
  {
   "cell_type": "markdown",
   "metadata": {},
   "source": [
    "# Definir estructura para RNN"
   ]
  },
  {
   "cell_type": "code",
   "execution_count": 31,
   "metadata": {},
   "outputs": [],
   "source": [
    "# # Tomar una muestra del 20% del conjunto balanceado\n",
    "# flights_data_sampled = flights_data_balanced.sample(frac=0.2, random_state=42)\n",
    "\n",
    "# # Convertir a tipos de datos más eficientes\n",
    "# X_balanced = flights_data_sampled[selected_features].astype('float32')\n",
    "# y_balanced = flights_data_sampled['Delayed']\n",
    "# sequence_length = 5  # Reducir el tamaño de la secuencia"
   ]
  },
  {
   "cell_type": "code",
   "execution_count": 15,
   "metadata": {},
   "outputs": [],
   "source": [
    "sequence_length = 3  # Número de vuelos en cada secuencia\n"
   ]
  },
  {
   "cell_type": "code",
   "execution_count": 16,
   "metadata": {},
   "outputs": [
    {
     "name": "stdout",
     "output_type": "stream",
     "text": [
      "Shape of X_sequences: (614865, 3, 632)\n",
      "Shape of y_sequences: (614865,)\n"
     ]
    }
   ],
   "source": [
    "# Convertir X_balanced y y_balanced a numpy para manipulación más fácil\n",
    "X_values = X_balanced.values\n",
    "y_values = y_balanced.values\n",
    "\n",
    "# Listas para almacenar las secuencias\n",
    "X_sequences = []\n",
    "y_sequences = []\n",
    "\n",
    "# Crear las secuencias\n",
    "for i in range(len(X_values) - sequence_length):\n",
    "    # Crear una secuencia de tamaño 'sequence_length' para X\n",
    "    X_seq = X_values[i:i + sequence_length]\n",
    "    X_sequences.append(X_seq)\n",
    "    \n",
    "    # La etiqueta (y) es el valor que sigue a la secuencia actual\n",
    "    y_sequences.append(y_values[i + sequence_length])\n",
    "\n",
    "# Convertir las listas a arreglos numpy\n",
    "X_sequences = np.array(X_sequences)\n",
    "y_sequences = np.array(y_sequences)\n",
    "\n",
    "# Verificar las dimensiones de las secuencias generadas\n",
    "print(\"Shape of X_sequences:\", X_sequences.shape)\n",
    "print(\"Shape of y_sequences:\", y_sequences.shape)\n"
   ]
  }
 ],
 "metadata": {
  "kernelspec": {
   "display_name": "Python 3",
   "language": "python",
   "name": "python3"
  },
  "language_info": {
   "codemirror_mode": {
    "name": "ipython",
    "version": 3
   },
   "file_extension": ".py",
   "mimetype": "text/x-python",
   "name": "python",
   "nbconvert_exporter": "python",
   "pygments_lexer": "ipython3",
   "version": "3.12.6"
  }
 },
 "nbformat": 4,
 "nbformat_minor": 2
}
